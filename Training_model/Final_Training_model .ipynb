{
 "cells": [
  {
   "cell_type": "markdown",
   "id": "e3939b85",
   "metadata": {},
   "source": [
    "# Training Model"
   ]
  },
  {
   "cell_type": "markdown",
   "id": "c74611ca",
   "metadata": {},
   "source": [
    "## Importing Libraries"
   ]
  },
  {
   "cell_type": "code",
   "execution_count": 12,
   "id": "6f44abd8-652d-445c-9b26-86155a1345d9",
   "metadata": {},
   "outputs": [],
   "source": [
    "import pandas as pd\n",
    "import numpy as np\n",
    "import re\n",
    "import nltk\n",
    "from nltk.corpus import stopwords\n",
    "from sklearn.model_selection import train_test_split\n",
    "from sklearn.feature_extraction.text import TfidfVectorizer\n",
    "from sklearn.ensemble import RandomForestClassifier\n",
    "from sklearn.naive_bayes import MultinomialNB\n",
    "from sklearn.metrics import classification_report, accuracy_score\n",
    "import tensorflow as tf\n",
    "from tensorflow.keras.models import Sequential\n",
    "from tensorflow.keras.layers import LSTM, Dense, Embedding, Dropout, Bidirectional\n",
    "from tensorflow.keras.preprocessing.text import Tokenizer\n",
    "from tensorflow.keras.preprocessing.sequence import pad_sequences\n"
   ]
  },
  {
   "cell_type": "markdown",
   "id": "3b572cd8",
   "metadata": {},
   "source": [
    "## Data Preparation"
   ]
  },
  {
   "cell_type": "code",
   "execution_count": 11,
   "id": "5fec3e54-e08d-4d9e-afa0-40ae19465555",
   "metadata": {
    "scrolled": true
   },
   "outputs": [
    {
     "name": "stderr",
     "output_type": "stream",
     "text": [
      "[nltk_data] Downloading package stopwords to\n",
      "[nltk_data]     C:\\Users\\verti\\AppData\\Roaming\\nltk_data...\n",
      "[nltk_data]   Package stopwords is already up-to-date!\n"
     ]
    }
   ],
   "source": [
    "nltk.download('stopwords')\n",
    "stop_words = set(stopwords.words('english'))\n",
    "\n",
    "# Load Dataset\n",
    "df = pd.read_csv(\"spam.csv\", encoding=\"latin-1\")\n",
    "df = df.rename(columns={'v1': 'label', 'v2': 'message'})[['label', 'message']]\n",
    "df['label'] = df['label'].map({'spam': 1, 'ham': 0})"
   ]
  },
  {
   "cell_type": "markdown",
   "id": "8d339b8a",
   "metadata": {},
   "source": [
    "## Data Augmentation: Implement Evasive Techniques"
   ]
  },
  {
   "cell_type": "code",
   "execution_count": null,
   "id": "cdd1caad",
   "metadata": {},
   "outputs": [],
   "source": [
    "# Data Augmentation with Evasive Techniques\n",
    "def add_evasive_techniques(text):\n",
    "    replacements = {\n",
    "        'a': '@', 'e': '3', 'i': '1', 'o': '0', 's': '$', 'b': '8',\n",
    "        't': '7', 'g': '6', 'z': '2'\n",
    "    }\n",
    "    evasive_text = ''.join([replacements.get(c, c) for c in text.lower()])\n",
    "    symbols = ['*', '~', '#', '!', '?']\n",
    "    evasive_text = ''.join([ch + random.choice(symbols) if random.random() > 0.7 else ch for ch in evasive_text])\n",
    "    return evasive_text\n",
    "\n",
    "df['augmented_message'] = df.apply(\n",
    "    lambda row: add_evasive_techniques(row['message']) if row['label'] == 1 and random.random() > 0.3 else row['message'],\n",
    "    axis=1\n",
    ")\n"
   ]
  },
  {
   "cell_type": "markdown",
   "id": "dbe03410",
   "metadata": {},
   "source": [
    "## Text Preprocess "
   ]
  },
  {
   "cell_type": "code",
   "execution_count": null,
   "id": "a2da4426",
   "metadata": {},
   "outputs": [],
   "source": [
    "def preprocess_text(text):\n",
    "    text = re.sub(r'\\W', ' ', text)  \n",
    "    text = text.lower()\n",
    "    text = \" \".join([word for word in text.split() if word not in stop_words])\n",
    "    return text\n",
    "\n",
    "df['cleaned_message'] = df['message'].apply(preprocess_text)\n"
   ]
  },
  {
   "cell_type": "markdown",
   "id": "bf86adc6",
   "metadata": {},
   "source": [
    "## Split Data"
   ]
  },
  {
   "cell_type": "code",
   "execution_count": 3,
   "id": "dfe23c25-e0ee-402d-8312-9b1f667b2997",
   "metadata": {},
   "outputs": [],
   "source": [
    "X = df['cleaned_message']\n",
    "y = df['label']\n",
    "X_train, X_test, y_train, y_test = train_test_split(X, y, test_size=0.3, random_state=42)"
   ]
  },
  {
   "cell_type": "markdown",
   "id": "37c94e8c",
   "metadata": {},
   "source": [
    "##  Tokenization and Padding for LSTM Model"
   ]
  },
  {
   "cell_type": "code",
   "execution_count": null,
   "id": "384fdffd",
   "metadata": {},
   "outputs": [],
   "source": [
    "max_words = 5000\n",
    "max_len = 100\n",
    "tokenizer = Tokenizer(num_words=max_words)\n",
    "tokenizer.fit_on_texts(X_train)\n",
    "X_train_seq = tokenizer.texts_to_sequences(X_train)\n",
    "X_test_seq = tokenizer.texts_to_sequences(X_test)\n",
    "X_train_pad = pad_sequences(X_train_seq, maxlen=max_len)\n",
    "X_test_pad = pad_sequences(X_test_seq, maxlen=max_len)"
   ]
  },
  {
   "cell_type": "markdown",
   "id": "58f54b37",
   "metadata": {},
   "source": [
    "## LSTM Model"
   ]
  },
  {
   "cell_type": "code",
   "execution_count": 4,
   "id": "7b70eef8-33db-4311-8473-9eae84257290",
   "metadata": {
    "scrolled": true
   },
   "outputs": [
    {
     "name": "stderr",
     "output_type": "stream",
     "text": [
      "C:\\Users\\verti\\anaconda3\\lib\\site-packages\\keras\\src\\layers\\core\\embedding.py:90: UserWarning: Argument `input_length` is deprecated. Just remove it.\n",
      "  warnings.warn(\n"
     ]
    },
    {
     "name": "stdout",
     "output_type": "stream",
     "text": [
      "Epoch 1/15\n",
      "\u001b[1m122/122\u001b[0m \u001b[32m━━━━━━━━━━━━━━━━━━━━\u001b[0m\u001b[37m\u001b[0m \u001b[1m10s\u001b[0m 56ms/step - accuracy: 0.8745 - loss: 0.3672 - val_accuracy: 0.9797 - val_loss: 0.0842\n",
      "Epoch 2/15\n",
      "\u001b[1m122/122\u001b[0m \u001b[32m━━━━━━━━━━━━━━━━━━━━\u001b[0m\u001b[37m\u001b[0m \u001b[1m8s\u001b[0m 62ms/step - accuracy: 0.9860 - loss: 0.0632 - val_accuracy: 0.9815 - val_loss: 0.0684\n",
      "Epoch 3/15\n",
      "\u001b[1m122/122\u001b[0m \u001b[32m━━━━━━━━━━━━━━━━━━━━\u001b[0m\u001b[37m\u001b[0m \u001b[1m9s\u001b[0m 77ms/step - accuracy: 0.9973 - loss: 0.0167 - val_accuracy: 0.9844 - val_loss: 0.0651\n",
      "Epoch 4/15\n",
      "\u001b[1m122/122\u001b[0m \u001b[32m━━━━━━━━━━━━━━━━━━━━\u001b[0m\u001b[37m\u001b[0m \u001b[1m9s\u001b[0m 74ms/step - accuracy: 0.9994 - loss: 0.0052 - val_accuracy: 0.9833 - val_loss: 0.1145\n",
      "Epoch 5/15\n",
      "\u001b[1m122/122\u001b[0m \u001b[32m━━━━━━━━━━━━━━━━━━━━\u001b[0m\u001b[37m\u001b[0m \u001b[1m9s\u001b[0m 70ms/step - accuracy: 0.9988 - loss: 0.0123 - val_accuracy: 0.9833 - val_loss: 0.1059\n",
      "Epoch 6/15\n",
      "\u001b[1m122/122\u001b[0m \u001b[32m━━━━━━━━━━━━━━━━━━━━\u001b[0m\u001b[37m\u001b[0m \u001b[1m9s\u001b[0m 70ms/step - accuracy: 0.9976 - loss: 0.0086 - val_accuracy: 0.9844 - val_loss: 0.0941\n",
      "Epoch 7/15\n",
      "\u001b[1m122/122\u001b[0m \u001b[32m━━━━━━━━━━━━━━━━━━━━\u001b[0m\u001b[37m\u001b[0m \u001b[1m9s\u001b[0m 75ms/step - accuracy: 0.9980 - loss: 0.0070 - val_accuracy: 0.9821 - val_loss: 0.1230\n",
      "Epoch 8/15\n",
      "\u001b[1m122/122\u001b[0m \u001b[32m━━━━━━━━━━━━━━━━━━━━\u001b[0m\u001b[37m\u001b[0m \u001b[1m9s\u001b[0m 73ms/step - accuracy: 0.9993 - loss: 0.0038 - val_accuracy: 0.9821 - val_loss: 0.1192\n",
      "Epoch 9/15\n",
      "\u001b[1m122/122\u001b[0m \u001b[32m━━━━━━━━━━━━━━━━━━━━\u001b[0m\u001b[37m\u001b[0m \u001b[1m9s\u001b[0m 71ms/step - accuracy: 1.0000 - loss: 0.0014 - val_accuracy: 0.9791 - val_loss: 0.1389\n",
      "Epoch 10/15\n",
      "\u001b[1m122/122\u001b[0m \u001b[32m━━━━━━━━━━━━━━━━━━━━\u001b[0m\u001b[37m\u001b[0m \u001b[1m9s\u001b[0m 70ms/step - accuracy: 0.9994 - loss: 0.0017 - val_accuracy: 0.9868 - val_loss: 0.1351\n",
      "Epoch 11/15\n",
      "\u001b[1m122/122\u001b[0m \u001b[32m━━━━━━━━━━━━━━━━━━━━\u001b[0m\u001b[37m\u001b[0m \u001b[1m9s\u001b[0m 72ms/step - accuracy: 0.9995 - loss: 0.0025 - val_accuracy: 0.9844 - val_loss: 0.1493\n",
      "Epoch 12/15\n",
      "\u001b[1m122/122\u001b[0m \u001b[32m━━━━━━━━━━━━━━━━━━━━\u001b[0m\u001b[37m\u001b[0m \u001b[1m9s\u001b[0m 71ms/step - accuracy: 0.9997 - loss: 0.0014 - val_accuracy: 0.9785 - val_loss: 0.1859\n",
      "Epoch 13/15\n",
      "\u001b[1m122/122\u001b[0m \u001b[32m━━━━━━━━━━━━━━━━━━━━\u001b[0m\u001b[37m\u001b[0m \u001b[1m9s\u001b[0m 71ms/step - accuracy: 0.9994 - loss: 0.0025 - val_accuracy: 0.9844 - val_loss: 0.1292\n",
      "Epoch 14/15\n",
      "\u001b[1m122/122\u001b[0m \u001b[32m━━━━━━━━━━━━━━━━━━━━\u001b[0m\u001b[37m\u001b[0m \u001b[1m9s\u001b[0m 76ms/step - accuracy: 0.9997 - loss: 0.0014 - val_accuracy: 0.9856 - val_loss: 0.1307\n",
      "Epoch 15/15\n",
      "\u001b[1m122/122\u001b[0m \u001b[32m━━━━━━━━━━━━━━━━━━━━\u001b[0m\u001b[37m\u001b[0m \u001b[1m9s\u001b[0m 74ms/step - accuracy: 1.0000 - loss: 9.4133e-04 - val_accuracy: 0.9844 - val_loss: 0.1423\n",
      "\u001b[1m53/53\u001b[0m \u001b[32m━━━━━━━━━━━━━━━━━━━━\u001b[0m\u001b[37m\u001b[0m \u001b[1m1s\u001b[0m 19ms/step - accuracy: 0.9875 - loss: 0.1128\n",
      "LSTM Model Accuracy: 0.9844497442245483\n"
     ]
    }
   ],
   "source": [
    "\n",
    "lstm_model = Sequential([\n",
    "    Embedding(max_words, 64, input_length=max_len),\n",
    "    Bidirectional(LSTM(64, return_sequences=True)),\n",
    "    Dropout(0.5),\n",
    "    LSTM(32),\n",
    "    Dense(32, activation='relu'),\n",
    "    Dropout(0.5),\n",
    "    Dense(1, activation='sigmoid')\n",
    "])\n",
    "\n",
    "lstm_model.compile(optimizer='adam', loss='binary_crossentropy', metrics=['accuracy'])\n",
    "lstm_model.fit(X_train_pad, y_train, epochs=15, batch_size=32, validation_data=(X_test_pad, y_test))\n",
    "\n",
    "# LSTM Evaluation\n",
    "lstm_loss, lstm_accuracy = lstm_model.evaluate(X_test_pad, y_test)\n",
    "print(\"LSTM Model Accuracy:\", lstm_accuracy)\n"
   ]
  },
  {
   "cell_type": "markdown",
   "id": "0963e7c4",
   "metadata": {},
   "source": [
    "# Comparative Analysis of Machine Learning Models"
   ]
  },
  {
   "cell_type": "markdown",
   "id": "f3b07a45",
   "metadata": {},
   "source": [
    "#### Naive Bayes Model & Random Forest Model"
   ]
  },
  {
   "cell_type": "code",
   "execution_count": 5,
   "id": "57dd4dfb-a628-4a30-9b33-7ce252a7500e",
   "metadata": {
    "scrolled": true
   },
   "outputs": [
    {
     "name": "stdout",
     "output_type": "stream",
     "text": [
      "Naive Bayes Accuracy: 0.9748803827751196\n",
      "Random Forest Accuracy: 0.9617224880382775\n"
     ]
    }
   ],
   "source": [
    "# TF-IDF Vectorization for Traditional Models\n",
    "tfidf = TfidfVectorizer(max_features=3000)\n",
    "X_train_tfidf = tfidf.fit_transform(X_train).toarray()\n",
    "X_test_tfidf = tfidf.transform(X_test).toarray()\n",
    "\n",
    "# Naive Bayes Model\n",
    "nb_model = MultinomialNB()\n",
    "nb_model.fit(X_train_tfidf, y_train)\n",
    "nb_pred = nb_model.predict(X_test_tfidf)\n",
    "print(\"Naive Bayes Accuracy:\", accuracy_score(y_test, nb_pred))\n",
    "\n",
    "# Random Forest Model\n",
    "rf_model = RandomForestClassifier(n_estimators=150, max_depth=20, random_state=42)\n",
    "rf_model.fit(X_train_tfidf, y_train)\n",
    "rf_pred = rf_model.predict(X_test_tfidf)\n",
    "print(\"Random Forest Accuracy:\", accuracy_score(y_test, rf_pred))\n",
    "\n"
   ]
  },
  {
   "cell_type": "code",
   "execution_count": null,
   "id": "8055060b-9e66-429e-8449-813f52b7a952",
   "metadata": {},
   "outputs": [],
   "source": [
    "filename = 'spam-sms-mnb-model.pkl'\n",
    "pickle.dump(mnb, open(filename, 'wb'))"
   ]
  },
  {
   "cell_type": "code",
   "execution_count": null,
   "id": "e2a344b0-9b0e-47b9-abd3-45c4ada591c0",
   "metadata": {},
   "outputs": [],
   "source": []
  },
  {
   "cell_type": "code",
   "execution_count": null,
   "id": "f886d5b3",
   "metadata": {},
   "outputs": [],
   "source": []
  },
  {
   "cell_type": "code",
   "execution_count": null,
   "id": "8a559848",
   "metadata": {},
   "outputs": [],
   "source": []
  },
  {
   "cell_type": "code",
   "execution_count": null,
   "id": "bda291dd",
   "metadata": {},
   "outputs": [],
   "source": []
  },
  {
   "cell_type": "code",
   "execution_count": null,
   "id": "89ad22a3-ee4f-4e7b-bac9-519f827f7a0c",
   "metadata": {},
   "outputs": [],
   "source": []
  }
 ],
 "metadata": {
  "kernelspec": {
   "display_name": "Python 3 (ipykernel)",
   "language": "python",
   "name": "python3"
  },
  "language_info": {
   "codemirror_mode": {
    "name": "ipython",
    "version": 3
   },
   "file_extension": ".py",
   "mimetype": "text/x-python",
   "name": "python",
   "nbconvert_exporter": "python",
   "pygments_lexer": "ipython3",
   "version": "3.9.12"
  }
 },
 "nbformat": 4,
 "nbformat_minor": 5
}
